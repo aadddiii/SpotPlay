{
 "cells": [
  {
   "cell_type": "code",
   "execution_count": 8,
   "metadata": {},
   "outputs": [],
   "source": [
    "import pandas as pd\n",
    "from sklearn.preprocessing import MinMaxScaler\n",
    "df = pd.read_csv(\"../data/dataset.csv\",index_col=0)\n",
    "\n"
   ]
  },
  {
   "cell_type": "code",
   "execution_count": 9,
   "metadata": {},
   "outputs": [
    {
     "name": "stdout",
     "output_type": "stream",
     "text": [
      "Missing Values in Audio Features:\n",
      "danceability    0\n",
      "valence         0\n",
      "liveness        0\n",
      "energy          0\n",
      "dtype: int64\n"
     ]
    }
   ],
   "source": [
    "# Check for missing values in the relevant columns (danceability, valence, liveness, and energy)\n",
    "audio_features = ['danceability', 'valence', 'liveness', 'energy']\n",
    "missing_values = df[audio_features].isnull().sum()\n",
    "print(\"Missing Values in Audio Features:\")\n",
    "print(missing_values)"
   ]
  },
  {
   "cell_type": "code",
   "execution_count": 10,
   "metadata": {},
   "outputs": [],
   "source": [
    "audio_features = ['danceability', 'valence', 'liveness', 'energy']\n",
    "scaler = MinMaxScaler()\n",
    "df[audio_features] = scaler.fit_transform(df[audio_features])"
   ]
  },
  {
   "cell_type": "code",
   "execution_count": 11,
   "metadata": {},
   "outputs": [],
   "source": [
    "df.drop(['album_name', 'popularity', 'duration_ms', 'explicit', 'key', 'loudness', 'mode',\n",
    "         'speechiness', 'acousticness', 'instrumentalness', 'tempo', 'time_signature', 'track_genre'], axis=1, inplace=True)"
   ]
  },
  {
   "cell_type": "code",
   "execution_count": 12,
   "metadata": {},
   "outputs": [],
   "source": [
    "df.to_csv('../data/preprocessed_dataset.csv')"
   ]
  }
 ],
 "metadata": {
  "kernelspec": {
   "display_name": "venv",
   "language": "python",
   "name": "python3"
  },
  "language_info": {
   "codemirror_mode": {
    "name": "ipython",
    "version": 3
   },
   "file_extension": ".py",
   "mimetype": "text/x-python",
   "name": "python",
   "nbconvert_exporter": "python",
   "pygments_lexer": "ipython3",
   "version": "3.11.4"
  },
  "orig_nbformat": 4
 },
 "nbformat": 4,
 "nbformat_minor": 2
}
